{
 "cells": [
  {
   "cell_type": "code",
   "execution_count": 17,
   "metadata": {},
   "outputs": [],
   "source": [
    "import argparse\n",
    "import os\n",
    "import random\n",
    "import torch\n",
    "import torch.nn as nn\n",
    "import torch.nn.parallel\n",
    "import torch.optim as optim\n",
    "import torch.utils.data\n",
    "import torchvision.datasets as dset\n",
    "import torchvision.transforms as transforms\n",
    "import torchvision.utils as vutils\n",
    "import numpy as np\n",
    "import matplotlib.pyplot as plt\n",
    "import matplotlib.animation as animation\n",
    "from IPython.display import HTML\n",
    "import kagglehub\n",
    "from torch.utils.data import Dataset, DataLoader\n",
    "import pandas as pd\n",
    "from torchvision import models\n",
    "from PIL import Image"
   ]
  },
  {
   "cell_type": "code",
   "execution_count": 9,
   "metadata": {},
   "outputs": [
    {
     "name": "stdout",
     "output_type": "stream",
     "text": [
      "Normal images path: /Users/sai/.cache/kagglehub/datasets/atulyakumar98/pothole-detection-dataset/versions/4/normal\n",
      "Potholes images path: /Users/sai/.cache/kagglehub/datasets/atulyakumar98/pothole-detection-dataset/versions/4/potholes\n"
     ]
    }
   ],
   "source": [
    "path = kagglehub.dataset_download(\"atulyakumar98/pothole-detection-dataset\")\n",
    "\n",
    "normal_dir = os.path.join(path, 'normal')\n",
    "potholes_dir = os.path.join(path, 'potholes')\n",
    "print(\"Normal images path:\", normal_dir)\n",
    "print(\"Potholes images path:\", potholes_dir)"
   ]
  },
  {
   "cell_type": "code",
   "execution_count": 22,
   "metadata": {},
   "outputs": [
    {
     "name": "stdout",
     "output_type": "stream",
     "text": [
      "Dataset downloaded to: /Users/sai/.cache/kagglehub/datasets/atulyakumar98/pothole-detection-dataset/versions/4\n"
     ]
    }
   ],
   "source": [
    "print(\"Dataset downloaded to:\", path)"
   ]
  },
  {
   "cell_type": "code",
   "execution_count": 18,
   "metadata": {},
   "outputs": [],
   "source": [
    "class PotholeDataset(Dataset):\n",
    "    def __init__(self, image_dir, transform=None):\n",
    "        self.image_dir = image_dir\n",
    "        self.image_names = os.listdir(image_dir)\n",
    "        self.transform = transform\n",
    "\n",
    "    def __len__(self):\n",
    "        return len(self.image_names)\n",
    "\n",
    "    def __getitem__(self, idx):\n",
    "        image_path = os.path.join(self.image_dir, self.image_names[idx])\n",
    "        image = Image.open(image_path).convert(\"RGB\")\n",
    "        \n",
    "        label = 0 if 'normal' in self.image_names[idx] else 1\n",
    "        \n",
    "        if self.transform:\n",
    "            image = self.transform(image)\n",
    "        \n",
    "        return image, label"
   ]
  },
  {
   "cell_type": "code",
   "execution_count": 23,
   "metadata": {},
   "outputs": [],
   "source": [
    "transform = transforms.Compose([\n",
    "    transforms.ToTensor(),\n",
    "    transforms.Normalize((0.5, 0.5, 0.5), (0.5, 0.5, 0.5)),\n",
    "    transforms.Resize((256, 256))\n",
    "])\n",
    "\n",
    "normal_dataset = PotholeDataset(image_dir=normal_dir, transform=transform)\n",
    "potholes_dataset = PotholeDataset(image_dir=potholes_dir, transform=transform)\n",
    "\n",
    "combined_dataset = normal_dataset + potholes_dataset\n",
    "\n",
    "train_loader = DataLoader(combined_dataset, batch_size=32, shuffle=True)\n",
    "test_loader = DataLoader(combined_dataset, batch_size=32, shuffle=False)"
   ]
  },
  {
   "cell_type": "code",
   "execution_count": 16,
   "metadata": {},
   "outputs": [
    {
     "name": "stderr",
     "output_type": "stream",
     "text": [
      "Downloading: \"https://download.pytorch.org/models/resnet50-11ad3fa6.pth\" to /Users/sai/.cache/torch/hub/checkpoints/resnet50-11ad3fa6.pth\n",
      "100%|██████████| 97.8M/97.8M [00:04<00:00, 24.1MB/s]\n"
     ]
    }
   ],
   "source": [
    "model = models.resnet50(weights=models.ResNet50_Weights.DEFAULT)\n",
    "\n",
    "for param in model.parameters():\n",
    "    param.requires_grad = False\n",
    "\n",
    "model.fc = nn.Linear(model.fc.in_features, 2) # Match the number of classes\n",
    "\n",
    "criterion = nn.CrossEntropyLoss()\n",
    "optimizer = optim.Adam(model.fc.parameters(), lr=0.001)\n",
    "\n",
    "num_epochs = 10\n",
    "device = torch.device(\"cuda\" if torch.cuda.is_available() else \"cpu\")\n",
    "model = model.to(device)"
   ]
  },
  {
   "cell_type": "code",
   "execution_count": null,
   "metadata": {},
   "outputs": [],
   "source": [
    "for epoch in range(num_epochs):\n",
    "    print(f\"Starting epoch {epoch+1}/{num_epochs}\")\n",
    "    runningLoss = 0.0\n",
    "    correctPredictions = 0.0\n",
    "    totalPredictions = 0.0\n",
    "\n",
    "    for batch_idx, (inputs, labels) in enumerate(train_loader):\n",
    "        print(f\"Processing batch {batch_idx+1}/{len(train_loader)}\")\n",
    "        inputs = inputs.to(device)\n",
    "        labels = labels.to(device)\n",
    "\n",
    "        optimizer.zero_grad()\n",
    "        outputs = model(inputs)\n",
    "        loss = criterion(outputs, labels)\n",
    "        loss.backward()\n",
    "        optimizer.step()\n",
    "\n",
    "        runningLoss += loss.item()\n",
    "        _, predicted = torch.max(outputs, 1)\n",
    "        totalPredictions += labels.size(0)\n",
    "        correctPredictions += (predicted == labels).sum().item()\n",
    "\n",
    "    epochLoss = runningLoss / len(train_loader)\n",
    "    epochAccuracy = (correctPredictions / totalPredictions) * 100\n",
    "    print(f\"Epoch {epoch+1}/{num_epochs}, Loss: {epochLoss:.4f}, Accuracy: {epochAccuracy:.2f}%\")\n"
   ]
  }
 ],
 "metadata": {
  "kernelspec": {
   "display_name": "Python 3",
   "language": "python",
   "name": "python3"
  },
  "language_info": {
   "codemirror_mode": {
    "name": "ipython",
    "version": 3
   },
   "file_extension": ".py",
   "mimetype": "text/x-python",
   "name": "python",
   "nbconvert_exporter": "python",
   "pygments_lexer": "ipython3",
   "version": "3.9.7"
  }
 },
 "nbformat": 4,
 "nbformat_minor": 2
}
