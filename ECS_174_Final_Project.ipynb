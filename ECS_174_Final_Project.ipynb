{
 "cells": [
  {
   "cell_type": "code",
   "execution_count": 180,
   "metadata": {
    "id": "RQ-qWR0hFghB"
   },
   "outputs": [],
   "source": [
    "import argparse\n",
    "import os\n",
    "import random\n",
    "import torch\n",
    "import torch.nn as nn\n",
    "import torch.nn.parallel\n",
    "import torch.optim as optim\n",
    "import torch.utils.data\n",
    "import torchvision.datasets as dset\n",
    "import torchvision.transforms as transforms\n",
    "import torchvision.utils as vutils\n",
    "import numpy as np\n",
    "import matplotlib.pyplot as plt\n",
    "import matplotlib.animation as animation\n",
    "from IPython.display import HTML\n",
    "import kagglehub\n",
    "from torch.utils.data import Dataset, DataLoader\n",
    "import pandas as pd\n",
    "from torchvision import models\n",
    "from PIL import Image"
   ]
  },
  {
   "cell_type": "code",
   "execution_count": 181,
   "metadata": {
    "colab": {
     "base_uri": "https://localhost:8080/"
    },
    "id": "p50uMhCRFghC",
    "outputId": "10079582-4816-431e-c901-e6cf2a8ea3f5"
   },
   "outputs": [
    {
     "name": "stdout",
     "output_type": "stream",
     "text": [
      "Normal images path: /Users/ybr/.cache/kagglehub/datasets/atulyakumar98/pothole-detection-dataset/versions/4/normal\n",
      "Potholes images path: /Users/ybr/.cache/kagglehub/datasets/atulyakumar98/pothole-detection-dataset/versions/4/potholes\n"
     ]
    }
   ],
   "source": [
    "path = kagglehub.dataset_download(\"atulyakumar98/pothole-detection-dataset\")\n",
    "\n",
    "normal_dir = os.path.join(path, 'normal')\n",
    "potholes_dir = os.path.join(path, 'potholes')\n",
    "print(\"Normal images path:\", normal_dir)\n",
    "print(\"Potholes images path:\", potholes_dir)"
   ]
  },
  {
   "cell_type": "code",
   "execution_count": 182,
   "metadata": {
    "colab": {
     "base_uri": "https://localhost:8080/"
    },
    "id": "kpV2Ahc0FghC",
    "outputId": "b0b13adb-a4c4-4de8-fd9e-cd5dc1779b3a"
   },
   "outputs": [
    {
     "name": "stdout",
     "output_type": "stream",
     "text": [
      "Dataset downloaded to: /Users/ybr/.cache/kagglehub/datasets/atulyakumar98/pothole-detection-dataset/versions/4\n"
     ]
    }
   ],
   "source": [
    "print(\"Dataset downloaded to:\", path)"
   ]
  },
  {
   "cell_type": "code",
   "execution_count": 183,
   "metadata": {
    "id": "jWAAm6hTFghC"
   },
   "outputs": [],
   "source": [
    "class PotholeDataset(Dataset):\n",
    "    def __init__(self, image_dir, transform=None):\n",
    "        self.image_dir = image_dir\n",
    "        self.image_names = os.listdir(image_dir)\n",
    "        self.transform = transform\n",
    "\n",
    "    def __len__(self):\n",
    "        return len(self.image_names)\n",
    "\n",
    "    def __getitem__(self, idx):\n",
    "        image_path = os.path.join(self.image_dir, self.image_names[idx])\n",
    "        image = Image.open(image_path).convert(\"RGB\")\n",
    "\n",
    "        label = 0 if 'normal' in self.image_dir else 1\n",
    "\n",
    "        if self.transform:\n",
    "            image = self.transform(image)\n",
    "\n",
    "        return image, label"
   ]
  },
  {
   "cell_type": "code",
   "execution_count": 184,
   "metadata": {
    "id": "kBWkTCSLFghC"
   },
   "outputs": [],
   "source": [
    "transform = transforms.Compose([\n",
    "    transforms.Resize(224),\n",
    "    transforms.CenterCrop(224),\n",
    "    transforms.ToTensor(),\n",
    "    transforms.Normalize((0.5, 0.5, 0.5), (0.5, 0.5, 0.5)),\n",
    "])\n",
    "\n",
    "\n",
    "normal_dataset = PotholeDataset(image_dir=normal_dir, transform=transform)\n",
    "potholes_dataset = PotholeDataset(image_dir=potholes_dir, transform=transform)\n",
    "\n",
    "combined_dataset = normal_dataset + potholes_dataset\n",
    "\n",
    "train_loader = DataLoader(combined_dataset, batch_size=32, shuffle=True)\n",
    "test_loader = DataLoader(combined_dataset, batch_size=32, shuffle=False)"
   ]
  },
  {
   "cell_type": "code",
   "execution_count": 185,
   "metadata": {
    "id": "NJuZtkFALEvG"
   },
   "outputs": [],
   "source": [
    "# MobileNetV2 Model for Classification\n",
    "mobilenet_model = models.mobilenet_v2(weights=models.MobileNet_V2_Weights.IMAGENET1K_V1)\n",
    "mobilenet_model.classifier = nn.Sequential(\n",
    "    nn.Dropout(0.2),\n",
    "    nn.Linear(mobilenet_model.last_channel, 2),\n",
    ")"
   ]
  },
  {
   "cell_type": "code",
   "execution_count": 186,
   "metadata": {},
   "outputs": [],
   "source": [
    "# InceptionV3 Model for Classification\n",
    "inception_model = models.inception_v3(weights=models.Inception_V3_Weights.IMAGENET1K_V1)\n",
    "inception_model.fc = nn.Linear(inception_model.fc.in_features, 2)"
   ]
  },
  {
   "cell_type": "code",
   "execution_count": 187,
   "metadata": {
    "id": "xi0j1334FghC"
   },
   "outputs": [],
   "source": [
    "#ResNet50 Model for Classification\n",
    "resnet_model = models.resnet50(weights=models.ResNet50_Weights.DEFAULT)\n",
    "resnet_model.fc = nn.Linear(resnet_model.fc.in_features, 2) # Match the number of classes"
   ]
  },
  {
   "cell_type": "code",
   "execution_count": 188,
   "metadata": {},
   "outputs": [],
   "source": [
    "#ResNet101 Model for Classification\n",
    "resnet_101_model = models.resnet101(weights=models.ResNet101_Weights.DEFAULT)\n",
    "resnet_101_model.fc = nn.Linear(resnet_101_model.fc.in_features, 2) # Match the number of classes"
   ]
  },
  {
   "cell_type": "code",
   "execution_count": 189,
   "metadata": {},
   "outputs": [],
   "source": [
    "# VGG19 Model for Classification\n",
    "vgg19_model = models.vgg19(weights=models.VGG19_Weights.IMAGENET1K_V1)\n",
    "vgg19_model.classifier[6] = nn.Sequential(\n",
    "    nn.Dropout(0.2),\n",
    "    nn.Linear(vgg19_model.classifier[6].in_features, 2),\n",
    ")"
   ]
  },
  {
   "cell_type": "code",
   "execution_count": 190,
   "metadata": {
    "id": "YYnUaVg2LpXu"
   },
   "outputs": [],
   "source": [
    "device = torch.device(\"cuda\" if torch.cuda.is_available() else \"cpu\")\n",
    "mobilenet_model = mobilenet_model.to(device)\n",
    "resnet_model = resnet_model.to(device)"
   ]
  },
  {
   "cell_type": "code",
   "execution_count": null,
   "metadata": {
    "id": "UaCsLQj7Lv99"
   },
   "outputs": [],
   "source": [
    "criterion = nn.CrossEntropyLoss()\n",
    "mobilenet_optimizer = optim.Adam(mobilenet_model.classifier.parameters(), lr=0.001)\n",
    "vgg19_optimizer = optim.Adam(vgg19_model.classifier.parameters(), lr=0.001)\n",
    "resnet_optimizer = optim.Adam(resnet_model.fc.parameters(), lr=0.001)\n",
    "resnet_101_optimizer = optim.Adam(resnet_101_model.fc.parameters(), lr=0.001)\n",
    "inception_optimizer = optim.Adam(inception_model.fc.parameters(), lr=0.001)"
   ]
  },
  {
   "cell_type": "code",
   "execution_count": 192,
   "metadata": {
    "id": "9PdRHo5AFghD"
   },
   "outputs": [],
   "source": [
    "def train_classification_model(model, optimizer, train_loader, num_epochs=10):\n",
    "    model.train()\n",
    "    for epoch in range(num_epochs):\n",
    "        runningLoss = 0.0\n",
    "        correctPredictions = 0.0\n",
    "        totalPredictions = 0.0\n",
    "        for inputs, labels in train_loader:\n",
    "            inputs, labels = inputs.to(device), labels.to(device)\n",
    "            optimizer.zero_grad()\n",
    "            outputs = model(inputs)\n",
    "            loss = criterion(outputs, labels)\n",
    "            loss.backward()\n",
    "            optimizer.step()\n",
    "            runningLoss += loss.item()\n",
    "            _, predicted = torch.max(outputs, 1)\n",
    "            totalPredictions += labels.size(0)\n",
    "            correctPredictions += (predicted == labels).sum().item()\n",
    "\n",
    "        epochLoss = runningLoss / len(train_loader)\n",
    "        epochAccuracy = (correctPredictions / totalPredictions) * 100\n",
    "        print(f\"Epoch {epoch+1}/{num_epochs}, Loss: {epochLoss:.4f}, Accuracy: {epochAccuracy:.2f}%\")"
   ]
  },
  {
   "cell_type": "code",
   "execution_count": 193,
   "metadata": {
    "id": "yJx-394sMuYK"
   },
   "outputs": [],
   "source": [
    "def evaluate_classification_model(model, test_loader):\n",
    "    model.eval()\n",
    "    correctPredictions = 0.0\n",
    "    totalPredictions = 0.0\n",
    "    with torch.no_grad():\n",
    "        for inputs, labels in test_loader:\n",
    "            inputs, labels = inputs.to(device), labels.to(device)\n",
    "            outputs = model(inputs)\n",
    "            _, predicted = torch.max(outputs, 1)\n",
    "            totalPredictions += labels.size(0)\n",
    "            correctPredictions += (predicted == labels).sum().item()\n",
    "\n",
    "    accuracy = (correctPredictions / totalPredictions) * 100\n",
    "    print(f\"Test Accuracy: {accuracy:.2f}%\")"
   ]
  },
  {
   "cell_type": "code",
   "execution_count": null,
   "metadata": {},
   "outputs": [
    {
     "name": "stdout",
     "output_type": "stream",
     "text": [
      "Training ResNet101...\n",
      "Epoch 1/10, Loss: 0.7177, Accuracy: 50.07%\n",
      "Epoch 2/10, Loss: 0.7141, Accuracy: 51.69%\n",
      "Epoch 3/10, Loss: 0.7172, Accuracy: 51.40%\n",
      "Epoch 4/10, Loss: 0.7193, Accuracy: 49.05%\n",
      "Epoch 5/10, Loss: 0.7173, Accuracy: 49.34%\n",
      "Epoch 6/10, Loss: 0.7210, Accuracy: 50.22%\n",
      "Epoch 7/10, Loss: 0.7151, Accuracy: 49.93%\n",
      "Epoch 8/10, Loss: 0.7181, Accuracy: 50.51%\n",
      "Epoch 9/10, Loss: 0.7107, Accuracy: 49.93%\n",
      "Epoch 10/10, Loss: 0.7188, Accuracy: 49.34%\n"
     ]
    }
   ],
   "source": [
    "print(\"Training ResNet101...\")\n",
    "train_classification_model(resnet_101_model, resnet_101_optimizer, train_loader)\n",
    "evaluate_classification_model(resnet_101_model, test_loader)"
   ]
  },
  {
   "cell_type": "code",
   "execution_count": null,
   "metadata": {},
   "outputs": [
    {
     "name": "stdout",
     "output_type": "stream",
     "text": [
      "Training VGG19...\n",
      "Epoch 1/10, Loss: 0.2425, Accuracy: 98.68%\n",
      "Epoch 2/10, Loss: 0.0937, Accuracy: 99.56%\n",
      "Epoch 3/10, Loss: 0.3326, Accuracy: 98.53%\n"
     ]
    },
    {
     "ename": "KeyboardInterrupt",
     "evalue": "",
     "output_type": "error",
     "traceback": [
      "\u001b[0;31m---------------------------------------------------------------------------\u001b[0m",
      "\u001b[0;31mKeyboardInterrupt\u001b[0m                         Traceback (most recent call last)",
      "Cell \u001b[0;32mIn[179], line 2\u001b[0m\n\u001b[1;32m      1\u001b[0m \u001b[38;5;28mprint\u001b[39m(\u001b[38;5;124m\"\u001b[39m\u001b[38;5;124mTraining VGG19...\u001b[39m\u001b[38;5;124m\"\u001b[39m)\n\u001b[0;32m----> 2\u001b[0m \u001b[43mtrain_classification_model\u001b[49m\u001b[43m(\u001b[49m\u001b[43mvgg19_model\u001b[49m\u001b[43m,\u001b[49m\u001b[43m \u001b[49m\u001b[43mvgg19_optimizer\u001b[49m\u001b[43m,\u001b[49m\u001b[43m \u001b[49m\u001b[43mtrain_loader\u001b[49m\u001b[43m)\u001b[49m\n\u001b[1;32m      3\u001b[0m evaluate_classification_model(vgg19_model, test_loader)\n",
      "Cell \u001b[0;32mIn[176], line 12\u001b[0m, in \u001b[0;36mtrain_classification_model\u001b[0;34m(model, optimizer, train_loader, num_epochs)\u001b[0m\n\u001b[1;32m     10\u001b[0m outputs \u001b[38;5;241m=\u001b[39m model(inputs)\n\u001b[1;32m     11\u001b[0m loss \u001b[38;5;241m=\u001b[39m criterion(outputs, labels)\n\u001b[0;32m---> 12\u001b[0m \u001b[43mloss\u001b[49m\u001b[38;5;241;43m.\u001b[39;49m\u001b[43mbackward\u001b[49m\u001b[43m(\u001b[49m\u001b[43m)\u001b[49m\n\u001b[1;32m     13\u001b[0m optimizer\u001b[38;5;241m.\u001b[39mstep()\n\u001b[1;32m     14\u001b[0m runningLoss \u001b[38;5;241m+\u001b[39m\u001b[38;5;241m=\u001b[39m loss\u001b[38;5;241m.\u001b[39mitem()\n",
      "File \u001b[0;32m~/Developer/ECS-174/ecs174-final-project/.venv/lib/python3.10/site-packages/torch/_tensor.py:581\u001b[0m, in \u001b[0;36mTensor.backward\u001b[0;34m(self, gradient, retain_graph, create_graph, inputs)\u001b[0m\n\u001b[1;32m    571\u001b[0m \u001b[38;5;28;01mif\u001b[39;00m has_torch_function_unary(\u001b[38;5;28mself\u001b[39m):\n\u001b[1;32m    572\u001b[0m     \u001b[38;5;28;01mreturn\u001b[39;00m handle_torch_function(\n\u001b[1;32m    573\u001b[0m         Tensor\u001b[38;5;241m.\u001b[39mbackward,\n\u001b[1;32m    574\u001b[0m         (\u001b[38;5;28mself\u001b[39m,),\n\u001b[0;32m   (...)\u001b[0m\n\u001b[1;32m    579\u001b[0m         inputs\u001b[38;5;241m=\u001b[39minputs,\n\u001b[1;32m    580\u001b[0m     )\n\u001b[0;32m--> 581\u001b[0m \u001b[43mtorch\u001b[49m\u001b[38;5;241;43m.\u001b[39;49m\u001b[43mautograd\u001b[49m\u001b[38;5;241;43m.\u001b[39;49m\u001b[43mbackward\u001b[49m\u001b[43m(\u001b[49m\n\u001b[1;32m    582\u001b[0m \u001b[43m    \u001b[49m\u001b[38;5;28;43mself\u001b[39;49m\u001b[43m,\u001b[49m\u001b[43m \u001b[49m\u001b[43mgradient\u001b[49m\u001b[43m,\u001b[49m\u001b[43m \u001b[49m\u001b[43mretain_graph\u001b[49m\u001b[43m,\u001b[49m\u001b[43m \u001b[49m\u001b[43mcreate_graph\u001b[49m\u001b[43m,\u001b[49m\u001b[43m \u001b[49m\u001b[43minputs\u001b[49m\u001b[38;5;241;43m=\u001b[39;49m\u001b[43minputs\u001b[49m\n\u001b[1;32m    583\u001b[0m \u001b[43m\u001b[49m\u001b[43m)\u001b[49m\n",
      "File \u001b[0;32m~/Developer/ECS-174/ecs174-final-project/.venv/lib/python3.10/site-packages/torch/autograd/__init__.py:347\u001b[0m, in \u001b[0;36mbackward\u001b[0;34m(tensors, grad_tensors, retain_graph, create_graph, grad_variables, inputs)\u001b[0m\n\u001b[1;32m    342\u001b[0m     retain_graph \u001b[38;5;241m=\u001b[39m create_graph\n\u001b[1;32m    344\u001b[0m \u001b[38;5;66;03m# The reason we repeat the same comment below is that\u001b[39;00m\n\u001b[1;32m    345\u001b[0m \u001b[38;5;66;03m# some Python versions print out the first line of a multi-line function\u001b[39;00m\n\u001b[1;32m    346\u001b[0m \u001b[38;5;66;03m# calls in the traceback and some print out the last line\u001b[39;00m\n\u001b[0;32m--> 347\u001b[0m \u001b[43m_engine_run_backward\u001b[49m\u001b[43m(\u001b[49m\n\u001b[1;32m    348\u001b[0m \u001b[43m    \u001b[49m\u001b[43mtensors\u001b[49m\u001b[43m,\u001b[49m\n\u001b[1;32m    349\u001b[0m \u001b[43m    \u001b[49m\u001b[43mgrad_tensors_\u001b[49m\u001b[43m,\u001b[49m\n\u001b[1;32m    350\u001b[0m \u001b[43m    \u001b[49m\u001b[43mretain_graph\u001b[49m\u001b[43m,\u001b[49m\n\u001b[1;32m    351\u001b[0m \u001b[43m    \u001b[49m\u001b[43mcreate_graph\u001b[49m\u001b[43m,\u001b[49m\n\u001b[1;32m    352\u001b[0m \u001b[43m    \u001b[49m\u001b[43minputs\u001b[49m\u001b[43m,\u001b[49m\n\u001b[1;32m    353\u001b[0m \u001b[43m    \u001b[49m\u001b[43mallow_unreachable\u001b[49m\u001b[38;5;241;43m=\u001b[39;49m\u001b[38;5;28;43;01mTrue\u001b[39;49;00m\u001b[43m,\u001b[49m\n\u001b[1;32m    354\u001b[0m \u001b[43m    \u001b[49m\u001b[43maccumulate_grad\u001b[49m\u001b[38;5;241;43m=\u001b[39;49m\u001b[38;5;28;43;01mTrue\u001b[39;49;00m\u001b[43m,\u001b[49m\n\u001b[1;32m    355\u001b[0m \u001b[43m\u001b[49m\u001b[43m)\u001b[49m\n",
      "File \u001b[0;32m~/Developer/ECS-174/ecs174-final-project/.venv/lib/python3.10/site-packages/torch/autograd/graph.py:825\u001b[0m, in \u001b[0;36m_engine_run_backward\u001b[0;34m(t_outputs, *args, **kwargs)\u001b[0m\n\u001b[1;32m    823\u001b[0m     unregister_hooks \u001b[38;5;241m=\u001b[39m _register_logging_hooks_on_whole_graph(t_outputs)\n\u001b[1;32m    824\u001b[0m \u001b[38;5;28;01mtry\u001b[39;00m:\n\u001b[0;32m--> 825\u001b[0m     \u001b[38;5;28;01mreturn\u001b[39;00m \u001b[43mVariable\u001b[49m\u001b[38;5;241;43m.\u001b[39;49m\u001b[43m_execution_engine\u001b[49m\u001b[38;5;241;43m.\u001b[39;49m\u001b[43mrun_backward\u001b[49m\u001b[43m(\u001b[49m\u001b[43m  \u001b[49m\u001b[38;5;66;43;03m# Calls into the C++ engine to run the backward pass\u001b[39;49;00m\n\u001b[1;32m    826\u001b[0m \u001b[43m        \u001b[49m\u001b[43mt_outputs\u001b[49m\u001b[43m,\u001b[49m\u001b[43m \u001b[49m\u001b[38;5;241;43m*\u001b[39;49m\u001b[43margs\u001b[49m\u001b[43m,\u001b[49m\u001b[43m \u001b[49m\u001b[38;5;241;43m*\u001b[39;49m\u001b[38;5;241;43m*\u001b[39;49m\u001b[43mkwargs\u001b[49m\n\u001b[1;32m    827\u001b[0m \u001b[43m    \u001b[49m\u001b[43m)\u001b[49m  \u001b[38;5;66;03m# Calls into the C++ engine to run the backward pass\u001b[39;00m\n\u001b[1;32m    828\u001b[0m \u001b[38;5;28;01mfinally\u001b[39;00m:\n\u001b[1;32m    829\u001b[0m     \u001b[38;5;28;01mif\u001b[39;00m attach_logging_hooks:\n",
      "\u001b[0;31mKeyboardInterrupt\u001b[0m: "
     ]
    }
   ],
   "source": [
    "print(\"Training VGG19...\")\n",
    "train_classification_model(vgg19_model, vgg19_optimizer, train_loader)\n",
    "evaluate_classification_model(vgg19_model, test_loader)"
   ]
  },
  {
   "cell_type": "code",
   "execution_count": null,
   "metadata": {
    "colab": {
     "base_uri": "https://localhost:8080/"
    },
    "id": "FW8XmrARM5be",
    "outputId": "97afa814-fb79-434e-ab50-170b5fa6e0ef"
   },
   "outputs": [],
   "source": [
    "# Choose model and train\n",
    "print(\"Training MobileNetV2...\")\n",
    "train_classification_model(mobilenet_model, mobilenet_optimizer, train_loader)\n",
    "evaluate_classification_model(mobilenet_model, test_loader)\n",
    "\n",
    "\n",
    "\n",
    "\n",
    "\n"
   ]
  },
  {
   "cell_type": "code",
   "execution_count": null,
   "metadata": {},
   "outputs": [],
   "source": [
    "print(\"Training ResNet50...\")\n",
    "train_classification_model(resnet_model, resnet_optimizer, train_loader)\n",
    "evaluate_classification_model(resnet_model, test_loader)\n"
   ]
  }
 ],
 "metadata": {
  "accelerator": "GPU",
  "colab": {
   "gpuType": "T4",
   "provenance": []
  },
  "kernelspec": {
   "display_name": ".venv",
   "language": "python",
   "name": "python3"
  },
  "language_info": {
   "codemirror_mode": {
    "name": "ipython",
    "version": 3
   },
   "file_extension": ".py",
   "mimetype": "text/x-python",
   "name": "python",
   "nbconvert_exporter": "python",
   "pygments_lexer": "ipython3",
   "version": "3.10.12"
  }
 },
 "nbformat": 4,
 "nbformat_minor": 0
}
