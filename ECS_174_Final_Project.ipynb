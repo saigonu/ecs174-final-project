{
  "cells": [
    {
      "cell_type": "code",
      "execution_count": 36,
      "metadata": {
        "id": "RQ-qWR0hFghB"
      },
      "outputs": [],
      "source": [
        "import argparse\n",
        "import os\n",
        "import random\n",
        "import torch\n",
        "import torch.nn as nn\n",
        "import torch.nn.parallel\n",
        "import torch.optim as optim\n",
        "import torch.utils.data\n",
        "import torchvision.datasets as dset\n",
        "import torchvision.transforms as transforms\n",
        "import torchvision.utils as vutils\n",
        "import numpy as np\n",
        "import matplotlib.pyplot as plt\n",
        "import matplotlib.animation as animation\n",
        "from IPython.display import HTML\n",
        "import kagglehub\n",
        "from torch.utils.data import Dataset, DataLoader\n",
        "import pandas as pd\n",
        "from torchvision import models\n",
        "from PIL import Image"
      ]
    },
    {
      "cell_type": "code",
      "execution_count": 37,
      "metadata": {
        "colab": {
          "base_uri": "https://localhost:8080/"
        },
        "id": "p50uMhCRFghC",
        "outputId": "10079582-4816-431e-c901-e6cf2a8ea3f5"
      },
      "outputs": [
        {
          "output_type": "stream",
          "name": "stdout",
          "text": [
            "Normal images path: /root/.cache/kagglehub/datasets/atulyakumar98/pothole-detection-dataset/versions/4/normal\n",
            "Potholes images path: /root/.cache/kagglehub/datasets/atulyakumar98/pothole-detection-dataset/versions/4/potholes\n"
          ]
        }
      ],
      "source": [
        "path = kagglehub.dataset_download(\"atulyakumar98/pothole-detection-dataset\")\n",
        "\n",
        "normal_dir = os.path.join(path, 'normal')\n",
        "potholes_dir = os.path.join(path, 'potholes')\n",
        "print(\"Normal images path:\", normal_dir)\n",
        "print(\"Potholes images path:\", potholes_dir)"
      ]
    },
    {
      "cell_type": "code",
      "execution_count": 38,
      "metadata": {
        "colab": {
          "base_uri": "https://localhost:8080/"
        },
        "id": "kpV2Ahc0FghC",
        "outputId": "b0b13adb-a4c4-4de8-fd9e-cd5dc1779b3a"
      },
      "outputs": [
        {
          "output_type": "stream",
          "name": "stdout",
          "text": [
            "Dataset downloaded to: /root/.cache/kagglehub/datasets/atulyakumar98/pothole-detection-dataset/versions/4\n"
          ]
        }
      ],
      "source": [
        "print(\"Dataset downloaded to:\", path)"
      ]
    },
    {
      "cell_type": "code",
      "execution_count": 39,
      "metadata": {
        "id": "jWAAm6hTFghC"
      },
      "outputs": [],
      "source": [
        "class PotholeDataset(Dataset):\n",
        "    def __init__(self, image_dir, transform=None):\n",
        "        self.image_dir = image_dir\n",
        "        self.image_names = os.listdir(image_dir)\n",
        "        self.transform = transform\n",
        "\n",
        "    def __len__(self):\n",
        "        return len(self.image_names)\n",
        "\n",
        "    def __getitem__(self, idx):\n",
        "        image_path = os.path.join(self.image_dir, self.image_names[idx])\n",
        "        image = Image.open(image_path).convert(\"RGB\")\n",
        "\n",
        "        label = 0 if 'normal' in self.image_dir else 1\n",
        "\n",
        "        if self.transform:\n",
        "            image = self.transform(image)\n",
        "\n",
        "        return image, label"
      ]
    },
    {
      "cell_type": "code",
      "execution_count": 40,
      "metadata": {
        "id": "kBWkTCSLFghC"
      },
      "outputs": [],
      "source": [
        "transform = transforms.Compose([\n",
        "    transforms.Resize(256),\n",
        "    transforms.CenterCrop(256),\n",
        "    transforms.ToTensor(),\n",
        "    transforms.Normalize((0.5, 0.5, 0.5), (0.5, 0.5, 0.5)),\n",
        "])\n",
        "\n",
        "\n",
        "normal_dataset = PotholeDataset(image_dir=normal_dir, transform=transform)\n",
        "potholes_dataset = PotholeDataset(image_dir=potholes_dir, transform=transform)\n",
        "\n",
        "combined_dataset = normal_dataset + potholes_dataset\n",
        "\n",
        "train_loader = DataLoader(combined_dataset, batch_size=32, shuffle=True)\n",
        "test_loader = DataLoader(combined_dataset, batch_size=32, shuffle=False)"
      ]
    },
    {
      "cell_type": "code",
      "source": [
        "# MobileNetV2 Model for Classification\n",
        "mobilenet_model = models.mobilenet_v2(weights=models.MobileNet_V2_Weights.IMAGENET1K_V1)\n",
        "mobilenet_model.classifier = nn.Sequential(\n",
        "    nn.Dropout(0.2),\n",
        "    nn.Linear(mobilenet_model.last_channel, 2),\n",
        ")"
      ],
      "metadata": {
        "id": "NJuZtkFALEvG"
      },
      "execution_count": 41,
      "outputs": []
    },
    {
      "cell_type": "code",
      "execution_count": 42,
      "metadata": {
        "id": "xi0j1334FghC"
      },
      "outputs": [],
      "source": [
        "#ResNet50 Model for Classification\n",
        "resnet_model = models.resnet50(weights=models.ResNet50_Weights.DEFAULT)\n",
        "\n",
        "resnet_model.fc = nn.Linear(resnet_model.fc.in_features, 2) # Match the number of classes"
      ]
    },
    {
      "cell_type": "code",
      "source": [
        "device = torch.device(\"cuda\" if torch.cuda.is_available() else \"cpu\")\n",
        "mobilenet_model = mobilenet_model.to(device)\n",
        "resnet_model = resnet_model.to(device)"
      ],
      "metadata": {
        "id": "YYnUaVg2LpXu"
      },
      "execution_count": 43,
      "outputs": []
    },
    {
      "cell_type": "code",
      "source": [
        "criterion = nn.CrossEntropyLoss()\n",
        "mobilenet_optimizer = optim.Adam(mobilenet_model.classifier.parameters(), lr=0.001)\n",
        "resnet_optimizer = optim.Adam(resnet_model.fc.parameters(), lr=0.001)"
      ],
      "metadata": {
        "id": "UaCsLQj7Lv99"
      },
      "execution_count": 44,
      "outputs": []
    },
    {
      "cell_type": "code",
      "execution_count": 45,
      "metadata": {
        "id": "9PdRHo5AFghD"
      },
      "outputs": [],
      "source": [
        "def train_classification_model(model, optimizer, train_loader, num_epochs=10):\n",
        "    model.train()\n",
        "    for epoch in range(num_epochs):\n",
        "        runningLoss = 0.0\n",
        "        correctPredictions = 0.0\n",
        "        totalPredictions = 0.0\n",
        "        for inputs, labels in train_loader:\n",
        "            inputs, labels = inputs.to(device), labels.to(device)\n",
        "            optimizer.zero_grad()\n",
        "            outputs = model(inputs)\n",
        "            loss = criterion(outputs, labels)\n",
        "            loss.backward()\n",
        "            optimizer.step()\n",
        "            runningLoss += loss.item()\n",
        "            _, predicted = torch.max(outputs, 1)\n",
        "            totalPredictions += labels.size(0)\n",
        "            correctPredictions += (predicted == labels).sum().item()\n",
        "\n",
        "        epochLoss = runningLoss / len(train_loader)\n",
        "        epochAccuracy = (correctPredictions / totalPredictions) * 100\n",
        "        print(f\"Epoch {epoch+1}/{num_epochs}, Loss: {epochLoss:.4f}, Accuracy: {epochAccuracy:.2f}%\")"
      ]
    },
    {
      "cell_type": "code",
      "source": [
        "def evaluate_classification_model(model, test_loader):\n",
        "    model.eval()\n",
        "    correctPredictions = 0.0\n",
        "    totalPredictions = 0.0\n",
        "    with torch.no_grad():\n",
        "        for inputs, labels in test_loader:\n",
        "            inputs, labels = inputs.to(device), labels.to(device)\n",
        "            outputs = model(inputs)\n",
        "            _, predicted = torch.max(outputs, 1)\n",
        "            totalPredictions += labels.size(0)\n",
        "            correctPredictions += (predicted == labels).sum().item()\n",
        "\n",
        "    accuracy = (correctPredictions / totalPredictions) * 100\n",
        "    print(f\"Test Accuracy: {accuracy:.2f}%\")"
      ],
      "metadata": {
        "id": "yJx-394sMuYK"
      },
      "execution_count": 46,
      "outputs": []
    },
    {
      "cell_type": "code",
      "source": [
        "# Choose model and train\n",
        "print(\"Training MobileNetV2...\")\n",
        "train_classification_model(mobilenet_model, mobilenet_optimizer, train_loader)\n",
        "evaluate_classification_model(mobilenet_model, test_loader)\n",
        "\n",
        "print(\"Training ResNet50...\")\n",
        "train_classification_model(resnet_model, resnet_optimizer, train_loader)\n",
        "evaluate_classification_model(resnet_model, test_loader)"
      ],
      "metadata": {
        "colab": {
          "base_uri": "https://localhost:8080/"
        },
        "id": "FW8XmrARM5be",
        "outputId": "97afa814-fb79-434e-ab50-170b5fa6e0ef"
      },
      "execution_count": 47,
      "outputs": [
        {
          "output_type": "stream",
          "name": "stdout",
          "text": [
            "Training MobileNetV2...\n",
            "Epoch 1/10, Loss: 0.3815, Accuracy: 85.61%\n",
            "Epoch 2/10, Loss: 0.1947, Accuracy: 92.80%\n",
            "Epoch 3/10, Loss: 0.1286, Accuracy: 97.65%\n",
            "Epoch 4/10, Loss: 0.1342, Accuracy: 95.45%\n",
            "Epoch 5/10, Loss: 0.1162, Accuracy: 96.33%\n",
            "Epoch 6/10, Loss: 0.1410, Accuracy: 95.59%\n",
            "Epoch 7/10, Loss: 0.0972, Accuracy: 97.50%\n",
            "Epoch 8/10, Loss: 0.0949, Accuracy: 97.06%\n",
            "Epoch 9/10, Loss: 0.0839, Accuracy: 97.50%\n",
            "Epoch 10/10, Loss: 0.0885, Accuracy: 97.06%\n",
            "Test Accuracy: 98.97%\n",
            "Training ResNet50...\n",
            "Epoch 1/10, Loss: 0.4192, Accuracy: 91.19%\n",
            "Epoch 2/10, Loss: 0.1852, Accuracy: 97.50%\n",
            "Epoch 3/10, Loss: 0.1270, Accuracy: 97.94%\n",
            "Epoch 4/10, Loss: 0.1107, Accuracy: 98.68%\n",
            "Epoch 5/10, Loss: 0.0994, Accuracy: 97.80%\n",
            "Epoch 6/10, Loss: 0.0892, Accuracy: 97.36%\n",
            "Epoch 7/10, Loss: 0.0739, Accuracy: 98.83%\n",
            "Epoch 8/10, Loss: 0.0826, Accuracy: 98.53%\n",
            "Epoch 9/10, Loss: 0.0721, Accuracy: 98.38%\n",
            "Epoch 10/10, Loss: 0.0612, Accuracy: 98.68%\n",
            "Test Accuracy: 98.83%\n"
          ]
        }
      ]
    }
  ],
  "metadata": {
    "kernelspec": {
      "display_name": "Python 3",
      "name": "python3"
    },
    "language_info": {
      "codemirror_mode": {
        "name": "ipython",
        "version": 3
      },
      "file_extension": ".py",
      "mimetype": "text/x-python",
      "name": "python",
      "nbconvert_exporter": "python",
      "pygments_lexer": "ipython3",
      "version": "3.9.7"
    },
    "colab": {
      "provenance": [],
      "gpuType": "T4"
    },
    "accelerator": "GPU"
  },
  "nbformat": 4,
  "nbformat_minor": 0
}